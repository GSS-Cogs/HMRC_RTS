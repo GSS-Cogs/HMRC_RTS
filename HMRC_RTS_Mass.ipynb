{
 "cells": [
  {
   "cell_type": "markdown",
   "metadata": {},
   "source": [
    "RTS from text files"
   ]
  },
  {
   "cell_type": "code",
   "execution_count": 1,
   "metadata": {},
   "outputs": [],
   "source": [
    "from databaker.framework import *\n",
    "import pandas as pd"
   ]
  },
  {
   "cell_type": "code",
   "execution_count": 2,
   "metadata": {},
   "outputs": [],
   "source": [
    "%run fetch_sources.ipynb\n",
    "new_table = pd.read_csv(input_file, delim_whitespace= True, header = None)"
   ]
  },
  {
   "cell_type": "code",
   "execution_count": 3,
   "metadata": {},
   "outputs": [],
   "source": [
    "new_table_data = new_table[new_table[3].isnull() == False]"
   ]
  },
  {
   "cell_type": "code",
   "execution_count": 4,
   "metadata": {},
   "outputs": [],
   "source": [
    "new_table = new_table[new_table[3].isnull() == True]"
   ]
  },
  {
   "cell_type": "code",
   "execution_count": 5,
   "metadata": {},
   "outputs": [
    {
     "data": {
      "text/plain": [
       "(5331, 4)"
      ]
     },
     "execution_count": 5,
     "metadata": {},
     "output_type": "execute_result"
    }
   ],
   "source": [
    "new_table_data.shape"
   ]
  },
  {
   "cell_type": "code",
   "execution_count": 6,
   "metadata": {},
   "outputs": [
    {
     "data": {
      "text/html": [
       "<div>\n",
       "<style scoped>\n",
       "    .dataframe tbody tr th:only-of-type {\n",
       "        vertical-align: middle;\n",
       "    }\n",
       "\n",
       "    .dataframe tbody tr th {\n",
       "        vertical-align: top;\n",
       "    }\n",
       "\n",
       "    .dataframe thead th {\n",
       "        text-align: right;\n",
       "    }\n",
       "</style>\n",
       "<table border=\"1\" class=\"dataframe\">\n",
       "  <thead>\n",
       "    <tr style=\"text-align: right;\">\n",
       "      <th></th>\n",
       "      <th>0</th>\n",
       "      <th>1</th>\n",
       "      <th>2</th>\n",
       "      <th>3</th>\n",
       "    </tr>\n",
       "  </thead>\n",
       "  <tbody>\n",
       "    <tr>\n",
       "      <th>0</th>\n",
       "      <td>4Q2017EEAAA</td>\n",
       "      <td>#1000</td>\n",
       "      <td>251</td>\n",
       "      <td>1.0</td>\n",
       "    </tr>\n",
       "    <tr>\n",
       "      <th>1</th>\n",
       "      <td>4Q2017EEAAA</td>\n",
       "      <td>#1001</td>\n",
       "      <td>1601</td>\n",
       "      <td>1851.0</td>\n",
       "    </tr>\n",
       "  </tbody>\n",
       "</table>\n",
       "</div>"
      ],
      "text/plain": [
       "             0      1     2       3\n",
       "0  4Q2017EEAAA  #1000   251     1.0\n",
       "1  4Q2017EEAAA  #1001  1601  1851.0"
      ]
     },
     "execution_count": 6,
     "metadata": {},
     "output_type": "execute_result"
    }
   ],
   "source": [
    "new_table_data.head(2)"
   ]
  },
  {
   "cell_type": "code",
   "execution_count": 7,
   "metadata": {},
   "outputs": [],
   "source": [
    "new_table_data[1] =new_table_data[2]"
   ]
  },
  {
   "cell_type": "code",
   "execution_count": 8,
   "metadata": {},
   "outputs": [],
   "source": [
    "new_table_data[2] =new_table_data[3]"
   ]
  },
  {
   "cell_type": "code",
   "execution_count": 9,
   "metadata": {},
   "outputs": [],
   "source": [
    "new_table = pd.concat([new_table, new_table_data])"
   ]
  },
  {
   "cell_type": "code",
   "execution_count": 10,
   "metadata": {},
   "outputs": [],
   "source": [
    "new_table.drop([3], axis =1, inplace =True)"
   ]
  },
  {
   "cell_type": "code",
   "execution_count": 11,
   "metadata": {},
   "outputs": [
    {
     "data": {
      "text/plain": [
       "(103534, 3)"
      ]
     },
     "execution_count": 11,
     "metadata": {},
     "output_type": "execute_result"
    }
   ],
   "source": [
    "new_table.shape"
   ]
  },
  {
   "cell_type": "code",
   "execution_count": 12,
   "metadata": {},
   "outputs": [
    {
     "data": {
      "text/html": [
       "<div>\n",
       "<style scoped>\n",
       "    .dataframe tbody tr th:only-of-type {\n",
       "        vertical-align: middle;\n",
       "    }\n",
       "\n",
       "    .dataframe tbody tr th {\n",
       "        vertical-align: top;\n",
       "    }\n",
       "\n",
       "    .dataframe thead th {\n",
       "        text-align: right;\n",
       "    }\n",
       "</style>\n",
       "<table border=\"1\" class=\"dataframe\">\n",
       "  <thead>\n",
       "    <tr style=\"text-align: right;\">\n",
       "      <th></th>\n",
       "      <th>0</th>\n",
       "      <th>1</th>\n",
       "      <th>2</th>\n",
       "    </tr>\n",
       "  </thead>\n",
       "  <tbody>\n",
       "    <tr>\n",
       "      <th>51</th>\n",
       "      <td>4Q2017EEAA800AU000</td>\n",
       "      <td>3086</td>\n",
       "      <td>19.0</td>\n",
       "    </tr>\n",
       "    <tr>\n",
       "      <th>52</th>\n",
       "      <td>4Q2017EEAA800AU001</td>\n",
       "      <td>23</td>\n",
       "      <td>5.0</td>\n",
       "    </tr>\n",
       "    <tr>\n",
       "      <th>53</th>\n",
       "      <td>4Q2017EEAA800AU002</td>\n",
       "      <td>0</td>\n",
       "      <td>0.0</td>\n",
       "    </tr>\n",
       "    <tr>\n",
       "      <th>54</th>\n",
       "      <td>4Q2017EEAA800AU004</td>\n",
       "      <td>1405</td>\n",
       "      <td>421.0</td>\n",
       "    </tr>\n",
       "    <tr>\n",
       "      <th>55</th>\n",
       "      <td>4Q2017EEAA800AU005</td>\n",
       "      <td>367</td>\n",
       "      <td>335.0</td>\n",
       "    </tr>\n",
       "    <tr>\n",
       "      <th>56</th>\n",
       "      <td>4Q2017EEAA800AU006</td>\n",
       "      <td>27</td>\n",
       "      <td>15.0</td>\n",
       "    </tr>\n",
       "  </tbody>\n",
       "</table>\n",
       "</div>"
      ],
      "text/plain": [
       "                     0     1      2\n",
       "51  4Q2017EEAA800AU000  3086   19.0\n",
       "52  4Q2017EEAA800AU001    23    5.0\n",
       "53  4Q2017EEAA800AU002     0    0.0\n",
       "54  4Q2017EEAA800AU004  1405  421.0\n",
       "55  4Q2017EEAA800AU005   367  335.0\n",
       "56  4Q2017EEAA800AU006    27   15.0"
      ]
     },
     "execution_count": 12,
     "metadata": {},
     "output_type": "execute_result"
    }
   ],
   "source": [
    "new_table.head(6)"
   ]
  },
  {
   "cell_type": "code",
   "execution_count": 13,
   "metadata": {},
   "outputs": [],
   "source": [
    "new_table['Period'] =\"quarter/\"+ new_table[0].astype(str).str[2:6]+'-'+new_table[0].astype(str).str[0:2].str[::-1]"
   ]
  },
  {
   "cell_type": "code",
   "execution_count": 14,
   "metadata": {},
   "outputs": [],
   "source": [
    "new_table['Flow'] = new_table[0].astype(str).str[6:7]"
   ]
  },
  {
   "cell_type": "code",
   "execution_count": 15,
   "metadata": {},
   "outputs": [],
   "source": [
    "new_table['nuts1'] = new_table[0].astype(str).str[7:9]"
   ]
  },
  {
   "cell_type": "code",
   "execution_count": 16,
   "metadata": {},
   "outputs": [],
   "source": [
    "new_table['Geography'] = new_table[0].astype(str).str[9:10]"
   ]
  },
  {
   "cell_type": "code",
   "execution_count": 17,
   "metadata": {},
   "outputs": [],
   "source": [
    "new_table['Codeseq'] = new_table[0].astype(str).str[10:13]"
   ]
  },
  {
   "cell_type": "code",
   "execution_count": 18,
   "metadata": {},
   "outputs": [],
   "source": [
    "new_table['Codalpha'] = new_table[0].astype(str).str[13:15]"
   ]
  },
  {
   "cell_type": "code",
   "execution_count": 19,
   "metadata": {},
   "outputs": [],
   "source": [
    "new_table['SITC Section'] = new_table[0].astype(str).str[15:16]"
   ]
  },
  {
   "cell_type": "code",
   "execution_count": 20,
   "metadata": {},
   "outputs": [],
   "source": [
    "new_table['SITC Division'] = new_table[0].astype(str).str[16:18]"
   ]
  },
  {
   "cell_type": "code",
   "execution_count": 21,
   "metadata": {},
   "outputs": [],
   "source": [
    "new_table.rename(index = str, columns = {2:'Mass'}, inplace = True)"
   ]
  },
  {
   "cell_type": "code",
   "execution_count": 22,
   "metadata": {},
   "outputs": [],
   "source": [
    "new_table.rename(index = str, columns = {1:'Value'}, inplace = True)"
   ]
  },
  {
   "cell_type": "code",
   "execution_count": 23,
   "metadata": {},
   "outputs": [],
   "source": [
    "# new_table['Unit'] = '£ 000s'\n",
    "# new_table['Measure Type'] = 'GBP Total'\n",
    "new_table['Unit'] = \"Kg 000s\"\n",
    "new_table['Measure Type'] = 'Kgs Total'"
   ]
  },
  {
   "cell_type": "code",
   "execution_count": 24,
   "metadata": {},
   "outputs": [],
   "source": [
    "new_table =new_table[['Geography','Period','nuts1','Codeseq','Codalpha','SITC Section','SITC Division','Flow','Measure Type','Mass','Unit']]"
   ]
  },
  {
   "cell_type": "code",
   "execution_count": 25,
   "metadata": {},
   "outputs": [],
   "source": [
    "new_table['Flow'] = new_table['Flow'].map(lambda cell:cell.replace('E', 'Exports'))\n",
    "new_table['Flow'] = new_table['Flow'].map(lambda cell:cell.replace('I', 'Imports'))"
   ]
  },
  {
   "cell_type": "code",
   "execution_count": 26,
   "metadata": {},
   "outputs": [
    {
     "data": {
      "text/plain": [
       "array(['Exports', 'Imports'], dtype=object)"
      ]
     },
     "execution_count": 26,
     "metadata": {},
     "output_type": "execute_result"
    }
   ],
   "source": [
    "new_table['Flow'].unique()"
   ]
  },
  {
   "cell_type": "code",
   "execution_count": 27,
   "metadata": {},
   "outputs": [
    {
     "data": {
      "text/plain": [
       "array(['A', 'B', 'C', 'D', 'F', 'G', 'H', 'I', 'J', 'E'], dtype=object)"
      ]
     },
     "execution_count": 27,
     "metadata": {},
     "output_type": "execute_result"
    }
   ],
   "source": [
    "new_table['Geography'].unique()"
   ]
  },
  {
   "cell_type": "code",
   "execution_count": 28,
   "metadata": {},
   "outputs": [],
   "source": [
    "replacements = {\n",
    "   'Geography': {\n",
    "      r'(A)': 'Asia and Oceania',\n",
    "       r'(B)': 'Eastern Europe',\n",
    "       r'(C)': 'European Union',\n",
    "       r'(D)': 'Latin America and the Caribbean',\n",
    "       r'(E)': 'Low Value Trade (Non-EU)',\n",
    "       r'(F)': 'Middle East and North Africa',\n",
    "       r'(G)': 'North America',\n",
    "       r'(H)': 'Sub-Saharan Africa',\n",
    "       r'(I)': 'Western Europe',\n",
    "       r'(J)': 'Ships and Stores(Non-EU)'\n",
    "       }\n",
    "}\n",
    "\n",
    "new_table.replace(replacements, regex=True, inplace=True)\n"
   ]
  },
  {
   "cell_type": "code",
   "execution_count": 29,
   "metadata": {},
   "outputs": [
    {
     "data": {
      "text/plain": [
       "Geography        103534\n",
       "Period           103534\n",
       "nuts1            103534\n",
       "Codeseq          103534\n",
       "Codalpha         103534\n",
       "SITC Section     103534\n",
       "SITC Division    103534\n",
       "Flow             103534\n",
       "Measure Type     103534\n",
       "Mass             103534\n",
       "Unit             103534\n",
       "dtype: int64"
      ]
     },
     "execution_count": 29,
     "metadata": {},
     "output_type": "execute_result"
    }
   ],
   "source": [
    "new_table.count()"
   ]
  },
  {
   "cell_type": "code",
   "execution_count": 30,
   "metadata": {},
   "outputs": [],
   "source": [
    "def user_perc(x):\n",
    "    \n",
    "    if x.strip(' ') == '':\n",
    "        return 'NA'\n",
    "    else:\n",
    "        return x\n",
    "    \n",
    "new_table['Codalpha'] = new_table.apply(lambda row: user_perc(row['Codalpha']), axis = 1)\n",
    "new_table['SITC Section'] = new_table.apply(lambda row: user_perc(row['SITC Section']), axis = 1)\n",
    "new_table['SITC Division'] = new_table.apply(lambda row: user_perc(row['SITC Division']), axis = 1)\n"
   ]
  },
  {
   "cell_type": "code",
   "execution_count": 31,
   "metadata": {},
   "outputs": [
    {
     "data": {
      "text/plain": [
       "dtype('float64')"
      ]
     },
     "execution_count": 31,
     "metadata": {},
     "output_type": "execute_result"
    }
   ],
   "source": [
    "new_table['Mass'].dtype"
   ]
  },
  {
   "cell_type": "code",
   "execution_count": 32,
   "metadata": {},
   "outputs": [],
   "source": [
    "new_table['Mass'] = new_table['Mass'].astype('int', copy=False)"
   ]
  },
  {
   "cell_type": "code",
   "execution_count": 33,
   "metadata": {},
   "outputs": [],
   "source": [
    "new_table = new_table[new_table['Mass'] != 0 ]"
   ]
  },
  {
   "cell_type": "code",
   "execution_count": 34,
   "metadata": {},
   "outputs": [
    {
     "data": {
      "text/plain": [
       "Geography        74214\n",
       "Period           74214\n",
       "nuts1            74214\n",
       "Codeseq          74214\n",
       "Codalpha         74214\n",
       "SITC Section     74214\n",
       "SITC Division    74214\n",
       "Flow             74214\n",
       "Measure Type     74214\n",
       "Mass             74214\n",
       "Unit             74214\n",
       "dtype: int64"
      ]
     },
     "execution_count": 34,
     "metadata": {},
     "output_type": "execute_result"
    }
   ],
   "source": [
    "new_table.count()"
   ]
  },
  {
   "cell_type": "code",
   "execution_count": 35,
   "metadata": {},
   "outputs": [
    {
     "data": {
      "text/html": [
       "<div>\n",
       "<style scoped>\n",
       "    .dataframe tbody tr th:only-of-type {\n",
       "        vertical-align: middle;\n",
       "    }\n",
       "\n",
       "    .dataframe tbody tr th {\n",
       "        vertical-align: top;\n",
       "    }\n",
       "\n",
       "    .dataframe thead th {\n",
       "        text-align: right;\n",
       "    }\n",
       "</style>\n",
       "<table border=\"1\" class=\"dataframe\">\n",
       "  <thead>\n",
       "    <tr style=\"text-align: right;\">\n",
       "      <th></th>\n",
       "      <th>Geography</th>\n",
       "      <th>Period</th>\n",
       "      <th>nuts1</th>\n",
       "      <th>Codeseq</th>\n",
       "      <th>Codalpha</th>\n",
       "      <th>SITC Section</th>\n",
       "      <th>SITC Division</th>\n",
       "      <th>Flow</th>\n",
       "      <th>Measure Type</th>\n",
       "      <th>Mass</th>\n",
       "      <th>Unit</th>\n",
       "    </tr>\n",
       "  </thead>\n",
       "  <tbody>\n",
       "    <tr>\n",
       "      <th>103275</th>\n",
       "      <td>Sub-Saharan Africa</td>\n",
       "      <td>quarter/2017-Q4</td>\n",
       "      <td>ZB</td>\n",
       "      <td>H</td>\n",
       "      <td>NA</td>\n",
       "      <td>NA</td>\n",
       "      <td>NA</td>\n",
       "      <td>Imports</td>\n",
       "      <td>Kgs Total</td>\n",
       "      <td>43</td>\n",
       "      <td>Kg 000s</td>\n",
       "    </tr>\n",
       "    <tr>\n",
       "      <th>103277</th>\n",
       "      <td>Sub-Saharan Africa</td>\n",
       "      <td>quarter/2017-Q4</td>\n",
       "      <td>ZB</td>\n",
       "      <td>H</td>\n",
       "      <td>NA</td>\n",
       "      <td>NA</td>\n",
       "      <td>NA</td>\n",
       "      <td>Imports</td>\n",
       "      <td>Kgs Total</td>\n",
       "      <td>5</td>\n",
       "      <td>Kg 000s</td>\n",
       "    </tr>\n",
       "    <tr>\n",
       "      <th>103278</th>\n",
       "      <td>Sub-Saharan Africa</td>\n",
       "      <td>quarter/2017-Q4</td>\n",
       "      <td>ZB</td>\n",
       "      <td>H</td>\n",
       "      <td>NA</td>\n",
       "      <td>NA</td>\n",
       "      <td>NA</td>\n",
       "      <td>Imports</td>\n",
       "      <td>Kgs Total</td>\n",
       "      <td>7</td>\n",
       "      <td>Kg 000s</td>\n",
       "    </tr>\n",
       "    <tr>\n",
       "      <th>103389</th>\n",
       "      <td>Western Europe</td>\n",
       "      <td>quarter/2017-Q4</td>\n",
       "      <td>ZB</td>\n",
       "      <td>I</td>\n",
       "      <td>NA</td>\n",
       "      <td>NA</td>\n",
       "      <td>NA</td>\n",
       "      <td>Imports</td>\n",
       "      <td>Kgs Total</td>\n",
       "      <td>5298</td>\n",
       "      <td>Kg 000s</td>\n",
       "    </tr>\n",
       "    <tr>\n",
       "      <th>103394</th>\n",
       "      <td>Western Europe</td>\n",
       "      <td>quarter/2017-Q4</td>\n",
       "      <td>ZB</td>\n",
       "      <td>I</td>\n",
       "      <td>NA</td>\n",
       "      <td>NA</td>\n",
       "      <td>NA</td>\n",
       "      <td>Imports</td>\n",
       "      <td>Kgs Total</td>\n",
       "      <td>3</td>\n",
       "      <td>Kg 000s</td>\n",
       "    </tr>\n",
       "  </tbody>\n",
       "</table>\n",
       "</div>"
      ],
      "text/plain": [
       "                 Geography           Period nuts1 Codeseq Codalpha  \\\n",
       "103275  Sub-Saharan Africa  quarter/2017-Q4    ZB       H       NA   \n",
       "103277  Sub-Saharan Africa  quarter/2017-Q4    ZB       H       NA   \n",
       "103278  Sub-Saharan Africa  quarter/2017-Q4    ZB       H       NA   \n",
       "103389      Western Europe  quarter/2017-Q4    ZB       I       NA   \n",
       "103394      Western Europe  quarter/2017-Q4    ZB       I       NA   \n",
       "\n",
       "       SITC Section SITC Division     Flow Measure Type  Mass     Unit  \n",
       "103275           NA            NA  Imports    Kgs Total    43  Kg 000s  \n",
       "103277           NA            NA  Imports    Kgs Total     5  Kg 000s  \n",
       "103278           NA            NA  Imports    Kgs Total     7  Kg 000s  \n",
       "103389           NA            NA  Imports    Kgs Total  5298  Kg 000s  \n",
       "103394           NA            NA  Imports    Kgs Total     3  Kg 000s  "
      ]
     },
     "execution_count": 35,
     "metadata": {},
     "output_type": "execute_result"
    }
   ],
   "source": [
    "new_table.tail(5)"
   ]
  },
  {
   "cell_type": "code",
   "execution_count": 36,
   "metadata": {},
   "outputs": [
    {
     "data": {
      "text/html": [
       "<div>\n",
       "<style scoped>\n",
       "    .dataframe tbody tr th:only-of-type {\n",
       "        vertical-align: middle;\n",
       "    }\n",
       "\n",
       "    .dataframe tbody tr th {\n",
       "        vertical-align: top;\n",
       "    }\n",
       "\n",
       "    .dataframe thead th {\n",
       "        text-align: right;\n",
       "    }\n",
       "</style>\n",
       "<table border=\"1\" class=\"dataframe\">\n",
       "  <thead>\n",
       "    <tr style=\"text-align: right;\">\n",
       "      <th></th>\n",
       "      <th>Geography</th>\n",
       "      <th>Period</th>\n",
       "      <th>nuts1</th>\n",
       "      <th>Codeseq</th>\n",
       "      <th>Codalpha</th>\n",
       "      <th>SITC Section</th>\n",
       "      <th>SITC Division</th>\n",
       "      <th>Flow</th>\n",
       "      <th>Measure Type</th>\n",
       "      <th>Mass</th>\n",
       "      <th>Unit</th>\n",
       "    </tr>\n",
       "  </thead>\n",
       "  <tbody>\n",
       "    <tr>\n",
       "      <th>51</th>\n",
       "      <td>Asia and Oceania</td>\n",
       "      <td>quarter/2017-Q4</td>\n",
       "      <td>EA</td>\n",
       "      <td>800</td>\n",
       "      <td>AU</td>\n",
       "      <td>0</td>\n",
       "      <td>00</td>\n",
       "      <td>Exports</td>\n",
       "      <td>Kgs Total</td>\n",
       "      <td>19</td>\n",
       "      <td>Kg 000s</td>\n",
       "    </tr>\n",
       "    <tr>\n",
       "      <th>52</th>\n",
       "      <td>Asia and Oceania</td>\n",
       "      <td>quarter/2017-Q4</td>\n",
       "      <td>EA</td>\n",
       "      <td>800</td>\n",
       "      <td>AU</td>\n",
       "      <td>0</td>\n",
       "      <td>01</td>\n",
       "      <td>Exports</td>\n",
       "      <td>Kgs Total</td>\n",
       "      <td>5</td>\n",
       "      <td>Kg 000s</td>\n",
       "    </tr>\n",
       "    <tr>\n",
       "      <th>54</th>\n",
       "      <td>Asia and Oceania</td>\n",
       "      <td>quarter/2017-Q4</td>\n",
       "      <td>EA</td>\n",
       "      <td>800</td>\n",
       "      <td>AU</td>\n",
       "      <td>0</td>\n",
       "      <td>04</td>\n",
       "      <td>Exports</td>\n",
       "      <td>Kgs Total</td>\n",
       "      <td>421</td>\n",
       "      <td>Kg 000s</td>\n",
       "    </tr>\n",
       "    <tr>\n",
       "      <th>55</th>\n",
       "      <td>Asia and Oceania</td>\n",
       "      <td>quarter/2017-Q4</td>\n",
       "      <td>EA</td>\n",
       "      <td>800</td>\n",
       "      <td>AU</td>\n",
       "      <td>0</td>\n",
       "      <td>05</td>\n",
       "      <td>Exports</td>\n",
       "      <td>Kgs Total</td>\n",
       "      <td>335</td>\n",
       "      <td>Kg 000s</td>\n",
       "    </tr>\n",
       "    <tr>\n",
       "      <th>56</th>\n",
       "      <td>Asia and Oceania</td>\n",
       "      <td>quarter/2017-Q4</td>\n",
       "      <td>EA</td>\n",
       "      <td>800</td>\n",
       "      <td>AU</td>\n",
       "      <td>0</td>\n",
       "      <td>06</td>\n",
       "      <td>Exports</td>\n",
       "      <td>Kgs Total</td>\n",
       "      <td>15</td>\n",
       "      <td>Kg 000s</td>\n",
       "    </tr>\n",
       "  </tbody>\n",
       "</table>\n",
       "</div>"
      ],
      "text/plain": [
       "           Geography           Period nuts1 Codeseq Codalpha SITC Section  \\\n",
       "51  Asia and Oceania  quarter/2017-Q4    EA     800       AU            0   \n",
       "52  Asia and Oceania  quarter/2017-Q4    EA     800       AU            0   \n",
       "54  Asia and Oceania  quarter/2017-Q4    EA     800       AU            0   \n",
       "55  Asia and Oceania  quarter/2017-Q4    EA     800       AU            0   \n",
       "56  Asia and Oceania  quarter/2017-Q4    EA     800       AU            0   \n",
       "\n",
       "   SITC Division     Flow Measure Type  Mass     Unit  \n",
       "51            00  Exports    Kgs Total    19  Kg 000s  \n",
       "52            01  Exports    Kgs Total     5  Kg 000s  \n",
       "54            04  Exports    Kgs Total   421  Kg 000s  \n",
       "55            05  Exports    Kgs Total   335  Kg 000s  \n",
       "56            06  Exports    Kgs Total    15  Kg 000s  "
      ]
     },
     "execution_count": 36,
     "metadata": {},
     "output_type": "execute_result"
    }
   ],
   "source": [
    "new_table.head(5)"
   ]
  },
  {
   "cell_type": "code",
   "execution_count": 39,
   "metadata": {},
   "outputs": [],
   "source": [
    "from pathlib import Path\n",
    "out = Path('out')\n",
    "out.mkdir(exist_ok=True)\n",
    "new_table.to_csv(out / 'rts_Mass_tidydata.CSV', index = False)"
   ]
  },
  {
   "cell_type": "code",
   "execution_count": null,
   "metadata": {},
   "outputs": [],
   "source": []
  }
 ],
 "metadata": {
  "kernelspec": {
   "display_name": "Python 3",
   "language": "python",
   "name": "python3"
  },
  "language_info": {
   "codemirror_mode": {
    "name": "ipython",
    "version": 3
   },
   "file_extension": ".py",
   "mimetype": "text/x-python",
   "name": "python",
   "nbconvert_exporter": "python",
   "pygments_lexer": "ipython3",
   "version": "3.6.5"
  }
 },
 "nbformat": 4,
 "nbformat_minor": 2
}
