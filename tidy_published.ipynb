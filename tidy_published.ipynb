{
 "cells": [
  {
   "cell_type": "markdown",
   "metadata": {},
   "source": [
    "## HMRC Regional Trade Statistics\n",
    "\n",
    "Transform to Tidy Data.\n",
    "\n",
    "The source data is available from https://www.uktradeinfo.com/Statistics/RTS/Documents/Forms/AllItems.aspx in a series of zip files, `RTS web YYYY.zip` for the years 2013 to 2016 currently.\n",
    "\n",
    "Each zip file contains fixed-width formatted text files following a layout described in https://www.uktradeinfo.com/Statistics/RTS/Documents/RTS%20Detailed%20data%20information%20pack.pdf. Each row is has two measures: net mass in tonnes and statistical value in £1000's. We're assuming each observation has one measure, so split these  out into separate files."
   ]
  },
  {
   "cell_type": "code",
   "execution_count": null,
   "metadata": {
    "scrolled": true
   },
   "outputs": [],
   "source": [
    "import pandas as pd\n",
    "from databaker.framework import *\n",
    "from pathlib import Path\n",
    "import requests\n",
    "from cachecontrol import CacheControl\n",
    "from cachecontrol.caches.file_cache import FileCache\n",
    "from cachecontrol.heuristics import LastModified\n",
    "from io import BytesIO, TextIOWrapper\n",
    "from zipfile import ZipFile\n",
    "\n",
    "session = CacheControl(requests.Session(),\n",
    "                       cache=FileCache('.cache'),\n",
    "                       heuristic=LastModified())\n",
    "\n",
    "destinationFolder = Path('out')\n",
    "destinationFolder.mkdir(exist_ok=True, parents=True)\n",
    "\n",
    "for zipURL in [f'https://www.uktradeinfo.com/Statistics/RTS/Documents/RTS%20web%20{year}.zip'\n",
    "            for year in range(2013,2017)]:\n",
    "    with ZipFile(BytesIO(session.get(zipURL).content)) as zip:\n",
    "        for name in zip.namelist():\n",
    "            with zip.open(name, 'r') as quarterFile:\n",
    "                quarterText = TextIOWrapper(quarterFile, encoding='utf-8')\n",
    "                table = pd.read_fwf(quarterText, widths=[6, 1, 2, 1, 3, 2, 1, 2, 9, 9], names=[\n",
    "                    'Period',\n",
    "                    'Flow',\n",
    "                    'HMRC Reporter Region',\n",
    "                    'HMRC Partner Geography',\n",
    "                    'Codalpha',\n",
    "                    'Codseq',\n",
    "                    'SITC Section',\n",
    "                    'SITC 4',\n",
    "                    'Value',\n",
    "                    'Netmass'\n",
    "                ], dtype=str)\n",
    "                table['Period'] = table['Period'].map(lambda x: f'quarter/{x[2:]}-Q{x[0]}')\n",
    "                table['Flow'] = table['Flow'].map(lambda x: 'Exports' if x == 'E' else 'Imports')\n",
    "                table['HMRC Partner Geography'] = table.apply(\n",
    "                    lambda x: x['Codseq'] if x['Codseq'][0] != '#' else x['Codalpha'],\n",
    "                    axis=1)\n",
    "                table.drop(columns=['Codalpha', 'Codseq', 'SITC Section'], inplace=True)\n",
    "                mass = table.drop(columns=['Value'])\n",
    "                mass['Measure Type'] = 'Net Mass'\n",
    "                mass['Unit'] = 'kg (thousands)'\n",
    "                mass.rename(columns={'Netmass': 'Value'}, inplace=True, index=str)\n",
    "                textFile = destinationFolder / name\n",
    "                mass.to_csv(textFile.with_suffix('.mass.csv'), index=False)\n",
    "                value = table.drop(columns=['Netmass'])\n",
    "                value['Measure Type'] = 'GBP Total'\n",
    "                value['Unit'] = '£ (thousands)'\n",
    "                value.to_csv(textFile.with_suffix('.value.csv'), index=False)"
   ]
  }
 ],
 "metadata": {
  "kernelspec": {
   "display_name": "Python 3",
   "language": "python",
   "name": "python3"
  },
  "language_info": {
   "codemirror_mode": {
    "name": "ipython",
    "version": 3
   },
   "file_extension": ".py",
   "mimetype": "text/x-python",
   "name": "python",
   "nbconvert_exporter": "python",
   "pygments_lexer": "ipython3",
   "version": "3.6.5"
  }
 },
 "nbformat": 4,
 "nbformat_minor": 2
}
